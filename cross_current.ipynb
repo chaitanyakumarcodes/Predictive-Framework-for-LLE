{
 "cells": [
  {
   "cell_type": "code",
   "execution_count": 19,
   "metadata": {},
   "outputs": [],
   "source": [
    "import numpy as np\n",
    "import pandas as pd\n",
    "import matplotlib.pyplot as plt"
   ]
  },
  {
   "cell_type": "code",
   "execution_count": 20,
   "metadata": {},
   "outputs": [],
   "source": [
    "#load the data\n",
    "df = pd.read_excel('cross_current_data.xlsx')"
   ]
  },
  {
   "cell_type": "code",
   "execution_count": 21,
   "metadata": {},
   "outputs": [],
   "source": [
    "#Split the data into input and output\n",
    "X = df.iloc[:,0] #Input\n",
    "y = df.iloc[:,1] #Output"
   ]
  },
  {
   "cell_type": "code",
   "execution_count": 22,
   "metadata": {},
   "outputs": [],
   "source": [
    "#Convert series to dataframe\n",
    "X = X.to_frame()\n",
    "y = y.to_frame()"
   ]
  },
  {
   "cell_type": "code",
   "execution_count": 23,
   "metadata": {},
   "outputs": [
    {
     "data": {
      "text/html": [
       "<div>\n",
       "<style scoped>\n",
       "    .dataframe tbody tr th:only-of-type {\n",
       "        vertical-align: middle;\n",
       "    }\n",
       "\n",
       "    .dataframe tbody tr th {\n",
       "        vertical-align: top;\n",
       "    }\n",
       "\n",
       "    .dataframe thead th {\n",
       "        text-align: right;\n",
       "    }\n",
       "</style>\n",
       "<table border=\"1\" class=\"dataframe\">\n",
       "  <thead>\n",
       "    <tr style=\"text-align: right;\">\n",
       "      <th></th>\n",
       "      <th>Solvent</th>\n",
       "    </tr>\n",
       "  </thead>\n",
       "  <tbody>\n",
       "    <tr>\n",
       "      <th>0</th>\n",
       "      <td>130</td>\n",
       "    </tr>\n",
       "    <tr>\n",
       "      <th>1</th>\n",
       "      <td>131</td>\n",
       "    </tr>\n",
       "    <tr>\n",
       "      <th>2</th>\n",
       "      <td>132</td>\n",
       "    </tr>\n",
       "    <tr>\n",
       "      <th>3</th>\n",
       "      <td>133</td>\n",
       "    </tr>\n",
       "    <tr>\n",
       "      <th>4</th>\n",
       "      <td>134</td>\n",
       "    </tr>\n",
       "    <tr>\n",
       "      <th>...</th>\n",
       "      <td>...</td>\n",
       "    </tr>\n",
       "    <tr>\n",
       "      <th>1496</th>\n",
       "      <td>1626</td>\n",
       "    </tr>\n",
       "    <tr>\n",
       "      <th>1497</th>\n",
       "      <td>1627</td>\n",
       "    </tr>\n",
       "    <tr>\n",
       "      <th>1498</th>\n",
       "      <td>1628</td>\n",
       "    </tr>\n",
       "    <tr>\n",
       "      <th>1499</th>\n",
       "      <td>1629</td>\n",
       "    </tr>\n",
       "    <tr>\n",
       "      <th>1500</th>\n",
       "      <td>1630</td>\n",
       "    </tr>\n",
       "  </tbody>\n",
       "</table>\n",
       "<p>1501 rows × 1 columns</p>\n",
       "</div>"
      ],
      "text/plain": [
       "      Solvent\n",
       "0         130\n",
       "1         131\n",
       "2         132\n",
       "3         133\n",
       "4         134\n",
       "...       ...\n",
       "1496     1626\n",
       "1497     1627\n",
       "1498     1628\n",
       "1499     1629\n",
       "1500     1630\n",
       "\n",
       "[1501 rows x 1 columns]"
      ]
     },
     "execution_count": 23,
     "metadata": {},
     "output_type": "execute_result"
    }
   ],
   "source": [
    "X"
   ]
  },
  {
   "cell_type": "code",
   "execution_count": 24,
   "metadata": {},
   "outputs": [
    {
     "data": {
      "text/html": [
       "<div>\n",
       "<style scoped>\n",
       "    .dataframe tbody tr th:only-of-type {\n",
       "        vertical-align: middle;\n",
       "    }\n",
       "\n",
       "    .dataframe tbody tr th {\n",
       "        vertical-align: top;\n",
       "    }\n",
       "\n",
       "    .dataframe thead th {\n",
       "        text-align: right;\n",
       "    }\n",
       "</style>\n",
       "<table border=\"1\" class=\"dataframe\">\n",
       "  <thead>\n",
       "    <tr style=\"text-align: right;\">\n",
       "      <th></th>\n",
       "      <th>Stages</th>\n",
       "    </tr>\n",
       "  </thead>\n",
       "  <tbody>\n",
       "    <tr>\n",
       "      <th>0</th>\n",
       "      <td>58</td>\n",
       "    </tr>\n",
       "    <tr>\n",
       "      <th>1</th>\n",
       "      <td>58</td>\n",
       "    </tr>\n",
       "    <tr>\n",
       "      <th>2</th>\n",
       "      <td>58</td>\n",
       "    </tr>\n",
       "    <tr>\n",
       "      <th>3</th>\n",
       "      <td>57</td>\n",
       "    </tr>\n",
       "    <tr>\n",
       "      <th>4</th>\n",
       "      <td>57</td>\n",
       "    </tr>\n",
       "    <tr>\n",
       "      <th>...</th>\n",
       "      <td>...</td>\n",
       "    </tr>\n",
       "    <tr>\n",
       "      <th>1496</th>\n",
       "      <td>4</td>\n",
       "    </tr>\n",
       "    <tr>\n",
       "      <th>1497</th>\n",
       "      <td>4</td>\n",
       "    </tr>\n",
       "    <tr>\n",
       "      <th>1498</th>\n",
       "      <td>4</td>\n",
       "    </tr>\n",
       "    <tr>\n",
       "      <th>1499</th>\n",
       "      <td>4</td>\n",
       "    </tr>\n",
       "    <tr>\n",
       "      <th>1500</th>\n",
       "      <td>4</td>\n",
       "    </tr>\n",
       "  </tbody>\n",
       "</table>\n",
       "<p>1501 rows × 1 columns</p>\n",
       "</div>"
      ],
      "text/plain": [
       "      Stages\n",
       "0         58\n",
       "1         58\n",
       "2         58\n",
       "3         57\n",
       "4         57\n",
       "...      ...\n",
       "1496       4\n",
       "1497       4\n",
       "1498       4\n",
       "1499       4\n",
       "1500       4\n",
       "\n",
       "[1501 rows x 1 columns]"
      ]
     },
     "execution_count": 24,
     "metadata": {},
     "output_type": "execute_result"
    }
   ],
   "source": [
    "y"
   ]
  },
  {
   "cell_type": "code",
   "execution_count": 25,
   "metadata": {},
   "outputs": [],
   "source": [
    "#Split the data into training and testing\n",
    "from sklearn.model_selection import train_test_split\n",
    "\n",
    "X_train,X_test,y_train,y_test = train_test_split(X,y,test_size=0.2,random_state=42)"
   ]
  },
  {
   "cell_type": "code",
   "execution_count": 26,
   "metadata": {},
   "outputs": [],
   "source": [
    "#Scale the data\n",
    "from sklearn.preprocessing import StandardScaler\n",
    "\n",
    "sc = StandardScaler()\n",
    "\n",
    "X_train_scaled = sc.fit_transform(X_train)\n",
    "X_test_scaled = sc.transform(X_test)"
   ]
  },
  {
   "cell_type": "code",
   "execution_count": 27,
   "metadata": {},
   "outputs": [
    {
     "data": {
      "text/plain": [
       "['scaler_cross.save']"
      ]
     },
     "execution_count": 27,
     "metadata": {},
     "output_type": "execute_result"
    }
   ],
   "source": [
    "import joblib\n",
    "joblib.dump(sc, 'scaler_cross.save')"
   ]
  },
  {
   "cell_type": "code",
   "execution_count": 28,
   "metadata": {},
   "outputs": [
    {
     "name": "stdout",
     "output_type": "stream",
     "text": [
      "1200\n",
      "301\n"
     ]
    }
   ],
   "source": [
    "print(X_train_scaled.size)\n",
    "print(X_test_scaled.size)"
   ]
  },
  {
   "cell_type": "code",
   "execution_count": 29,
   "metadata": {},
   "outputs": [],
   "source": [
    "#Model"
   ]
  },
  {
   "cell_type": "code",
   "execution_count": 30,
   "metadata": {},
   "outputs": [],
   "source": [
    "import tensorflow\n",
    "from keras.models import Sequential\n",
    "from keras.layers import Dense"
   ]
  },
  {
   "cell_type": "code",
   "execution_count": 31,
   "metadata": {},
   "outputs": [
    {
     "name": "stdout",
     "output_type": "stream",
     "text": [
      "Model: \"sequential_1\"\n",
      "_________________________________________________________________\n",
      " Layer (type)                Output Shape              Param #   \n",
      "=================================================================\n",
      " dense_3 (Dense)             (None, 32)                64        \n",
      "                                                                 \n",
      " dense_4 (Dense)             (None, 16)                528       \n",
      "                                                                 \n",
      " dense_5 (Dense)             (None, 1)                 17        \n",
      "                                                                 \n",
      "=================================================================\n",
      "Total params: 609 (2.38 KB)\n",
      "Trainable params: 609 (2.38 KB)\n",
      "Non-trainable params: 0 (0.00 Byte)\n",
      "_________________________________________________________________\n"
     ]
    }
   ],
   "source": [
    "model = Sequential()\n",
    "model.add(Dense(units=32,activation='relu',input_dim=1))\n",
    "model.add(Dense(units=16,activation='relu'))\n",
    "model.add(Dense(units=1,activation='relu'))\n",
    "\n",
    "model.summary()"
   ]
  },
  {
   "cell_type": "code",
   "execution_count": 32,
   "metadata": {},
   "outputs": [
    {
     "name": "stdout",
     "output_type": "stream",
     "text": [
      "Epoch 1/100\n"
     ]
    },
    {
     "name": "stdout",
     "output_type": "stream",
     "text": [
      "38/38 [==============================] - 1s 5ms/step - loss: 218.5204 - val_loss: 187.3930\n",
      "Epoch 2/100\n",
      "38/38 [==============================] - 0s 2ms/step - loss: 197.5607 - val_loss: 163.8016\n",
      "Epoch 3/100\n",
      "38/38 [==============================] - 0s 2ms/step - loss: 165.5902 - val_loss: 127.2954\n",
      "Epoch 4/100\n",
      "38/38 [==============================] - 0s 2ms/step - loss: 123.1849 - val_loss: 84.1725\n",
      "Epoch 5/100\n",
      "38/38 [==============================] - 0s 2ms/step - loss: 78.2608 - val_loss: 48.3807\n",
      "Epoch 6/100\n",
      "38/38 [==============================] - 0s 3ms/step - loss: 47.6668 - val_loss: 31.7339\n",
      "Epoch 7/100\n",
      "38/38 [==============================] - 0s 3ms/step - loss: 36.3252 - val_loss: 28.8190\n",
      "Epoch 8/100\n",
      "38/38 [==============================] - 0s 3ms/step - loss: 33.7894 - val_loss: 28.2112\n",
      "Epoch 9/100\n",
      "38/38 [==============================] - 0s 3ms/step - loss: 32.9020 - val_loss: 27.5138\n",
      "Epoch 10/100\n",
      "38/38 [==============================] - 0s 2ms/step - loss: 32.1334 - val_loss: 26.8477\n",
      "Epoch 11/100\n",
      "38/38 [==============================] - 0s 2ms/step - loss: 31.3031 - val_loss: 26.1881\n",
      "Epoch 12/100\n",
      "38/38 [==============================] - 0s 2ms/step - loss: 30.5986 - val_loss: 25.4385\n",
      "Epoch 13/100\n",
      "38/38 [==============================] - 0s 2ms/step - loss: 30.0820 - val_loss: 24.9386\n",
      "Epoch 14/100\n",
      "38/38 [==============================] - 0s 2ms/step - loss: 29.1881 - val_loss: 24.1322\n",
      "Epoch 15/100\n",
      "38/38 [==============================] - 0s 2ms/step - loss: 28.5344 - val_loss: 23.5144\n",
      "Epoch 16/100\n",
      "38/38 [==============================] - 0s 2ms/step - loss: 27.8335 - val_loss: 22.7884\n",
      "Epoch 17/100\n",
      "38/38 [==============================] - 0s 3ms/step - loss: 27.1134 - val_loss: 22.0787\n",
      "Epoch 18/100\n",
      "38/38 [==============================] - 0s 3ms/step - loss: 26.5344 - val_loss: 21.4797\n",
      "Epoch 19/100\n",
      "38/38 [==============================] - 0s 2ms/step - loss: 25.6867 - val_loss: 20.7245\n",
      "Epoch 20/100\n",
      "38/38 [==============================] - 0s 2ms/step - loss: 24.9516 - val_loss: 20.0477\n",
      "Epoch 21/100\n",
      "38/38 [==============================] - 0s 3ms/step - loss: 24.2345 - val_loss: 19.3733\n",
      "Epoch 22/100\n",
      "38/38 [==============================] - 0s 3ms/step - loss: 23.4435 - val_loss: 18.6662\n",
      "Epoch 23/100\n",
      "38/38 [==============================] - 0s 2ms/step - loss: 22.7291 - val_loss: 18.0345\n",
      "Epoch 24/100\n",
      "38/38 [==============================] - 0s 2ms/step - loss: 22.0407 - val_loss: 17.3096\n",
      "Epoch 25/100\n",
      "38/38 [==============================] - 0s 2ms/step - loss: 21.2739 - val_loss: 16.6649\n",
      "Epoch 26/100\n",
      "38/38 [==============================] - 0s 2ms/step - loss: 20.6193 - val_loss: 15.9799\n",
      "Epoch 27/100\n",
      "38/38 [==============================] - 0s 2ms/step - loss: 19.8949 - val_loss: 15.2302\n",
      "Epoch 28/100\n",
      "38/38 [==============================] - 0s 7ms/step - loss: 19.2015 - val_loss: 14.6345\n",
      "Epoch 29/100\n",
      "38/38 [==============================] - 0s 2ms/step - loss: 18.5815 - val_loss: 14.0221\n",
      "Epoch 30/100\n",
      "38/38 [==============================] - 0s 3ms/step - loss: 17.9285 - val_loss: 13.3491\n",
      "Epoch 31/100\n",
      "38/38 [==============================] - 0s 3ms/step - loss: 17.4278 - val_loss: 12.8176\n",
      "Epoch 32/100\n",
      "38/38 [==============================] - 0s 3ms/step - loss: 16.7311 - val_loss: 12.2757\n",
      "Epoch 33/100\n",
      "38/38 [==============================] - 0s 3ms/step - loss: 16.0777 - val_loss: 11.7758\n",
      "Epoch 34/100\n",
      "38/38 [==============================] - 0s 2ms/step - loss: 15.5538 - val_loss: 11.2008\n",
      "Epoch 35/100\n",
      "38/38 [==============================] - 0s 2ms/step - loss: 15.0428 - val_loss: 10.6628\n",
      "Epoch 36/100\n",
      "38/38 [==============================] - 0s 2ms/step - loss: 14.4301 - val_loss: 10.2582\n",
      "Epoch 37/100\n",
      "38/38 [==============================] - 0s 2ms/step - loss: 13.8684 - val_loss: 9.7487\n",
      "Epoch 38/100\n",
      "38/38 [==============================] - 0s 2ms/step - loss: 13.3374 - val_loss: 9.3182\n",
      "Epoch 39/100\n",
      "38/38 [==============================] - 0s 2ms/step - loss: 12.8277 - val_loss: 8.8695\n",
      "Epoch 40/100\n",
      "38/38 [==============================] - 0s 2ms/step - loss: 12.4420 - val_loss: 8.5623\n",
      "Epoch 41/100\n",
      "38/38 [==============================] - 0s 2ms/step - loss: 11.9845 - val_loss: 8.0867\n",
      "Epoch 42/100\n",
      "38/38 [==============================] - 0s 2ms/step - loss: 11.5038 - val_loss: 7.7254\n",
      "Epoch 43/100\n",
      "38/38 [==============================] - 0s 2ms/step - loss: 11.0577 - val_loss: 7.3406\n",
      "Epoch 44/100\n",
      "38/38 [==============================] - 0s 2ms/step - loss: 10.5986 - val_loss: 6.9491\n",
      "Epoch 45/100\n",
      "38/38 [==============================] - 0s 2ms/step - loss: 10.1260 - val_loss: 6.7296\n",
      "Epoch 46/100\n",
      "38/38 [==============================] - 0s 2ms/step - loss: 9.7840 - val_loss: 6.3391\n",
      "Epoch 47/100\n",
      "38/38 [==============================] - 0s 2ms/step - loss: 9.4422 - val_loss: 5.9970\n",
      "Epoch 48/100\n",
      "38/38 [==============================] - 0s 4ms/step - loss: 9.0889 - val_loss: 5.7533\n",
      "Epoch 49/100\n",
      "38/38 [==============================] - 0s 5ms/step - loss: 8.7367 - val_loss: 5.4764\n",
      "Epoch 50/100\n",
      "38/38 [==============================] - 0s 6ms/step - loss: 8.3885 - val_loss: 5.1948\n",
      "Epoch 51/100\n",
      "38/38 [==============================] - 0s 4ms/step - loss: 8.0919 - val_loss: 4.9704\n",
      "Epoch 52/100\n",
      "38/38 [==============================] - 0s 3ms/step - loss: 7.7757 - val_loss: 4.7135\n",
      "Epoch 53/100\n",
      "38/38 [==============================] - 0s 3ms/step - loss: 7.4831 - val_loss: 4.5187\n",
      "Epoch 54/100\n",
      "38/38 [==============================] - 0s 4ms/step - loss: 7.1883 - val_loss: 4.2858\n",
      "Epoch 55/100\n",
      "38/38 [==============================] - 0s 4ms/step - loss: 7.0122 - val_loss: 4.0447\n",
      "Epoch 56/100\n",
      "38/38 [==============================] - 0s 3ms/step - loss: 6.6496 - val_loss: 3.8684\n",
      "Epoch 57/100\n",
      "38/38 [==============================] - 0s 3ms/step - loss: 6.4127 - val_loss: 3.6716\n",
      "Epoch 58/100\n",
      "38/38 [==============================] - 0s 3ms/step - loss: 6.2129 - val_loss: 3.4872\n",
      "Epoch 59/100\n",
      "38/38 [==============================] - 0s 4ms/step - loss: 5.9151 - val_loss: 3.3226\n",
      "Epoch 60/100\n",
      "38/38 [==============================] - 0s 3ms/step - loss: 5.7540 - val_loss: 3.1806\n",
      "Epoch 61/100\n",
      "38/38 [==============================] - 0s 3ms/step - loss: 5.4852 - val_loss: 2.9885\n",
      "Epoch 62/100\n",
      "38/38 [==============================] - 0s 2ms/step - loss: 5.2725 - val_loss: 2.8611\n",
      "Epoch 63/100\n",
      "38/38 [==============================] - 0s 2ms/step - loss: 5.0984 - val_loss: 2.7138\n",
      "Epoch 64/100\n",
      "38/38 [==============================] - 0s 2ms/step - loss: 4.8890 - val_loss: 2.5945\n",
      "Epoch 65/100\n",
      "38/38 [==============================] - 0s 2ms/step - loss: 4.7341 - val_loss: 2.4413\n",
      "Epoch 66/100\n",
      "38/38 [==============================] - 0s 2ms/step - loss: 4.5071 - val_loss: 2.3521\n",
      "Epoch 67/100\n",
      "38/38 [==============================] - 0s 2ms/step - loss: 4.3715 - val_loss: 2.2166\n",
      "Epoch 68/100\n",
      "38/38 [==============================] - 0s 2ms/step - loss: 4.2267 - val_loss: 2.1242\n",
      "Epoch 69/100\n",
      "38/38 [==============================] - 0s 2ms/step - loss: 4.0416 - val_loss: 2.0426\n",
      "Epoch 70/100\n",
      "38/38 [==============================] - 0s 2ms/step - loss: 3.9472 - val_loss: 1.9242\n",
      "Epoch 71/100\n",
      "38/38 [==============================] - 0s 2ms/step - loss: 3.7338 - val_loss: 1.8610\n",
      "Epoch 72/100\n",
      "38/38 [==============================] - 0s 2ms/step - loss: 3.6036 - val_loss: 1.7635\n",
      "Epoch 73/100\n",
      "38/38 [==============================] - 0s 5ms/step - loss: 3.4501 - val_loss: 1.6780\n",
      "Epoch 74/100\n",
      "38/38 [==============================] - 0s 3ms/step - loss: 3.3136 - val_loss: 1.6459\n",
      "Epoch 75/100\n",
      "38/38 [==============================] - 0s 2ms/step - loss: 3.2265 - val_loss: 1.6174\n",
      "Epoch 76/100\n",
      "38/38 [==============================] - 0s 3ms/step - loss: 3.0479 - val_loss: 1.4839\n",
      "Epoch 77/100\n",
      "38/38 [==============================] - 0s 5ms/step - loss: 3.0155 - val_loss: 1.4134\n",
      "Epoch 78/100\n",
      "38/38 [==============================] - 0s 5ms/step - loss: 2.8258 - val_loss: 1.3423\n",
      "Epoch 79/100\n",
      "38/38 [==============================] - 0s 5ms/step - loss: 2.7251 - val_loss: 1.3210\n",
      "Epoch 80/100\n",
      "38/38 [==============================] - 0s 4ms/step - loss: 2.6264 - val_loss: 1.2423\n",
      "Epoch 81/100\n",
      "38/38 [==============================] - 0s 5ms/step - loss: 2.5162 - val_loss: 1.2305\n",
      "Epoch 82/100\n",
      "38/38 [==============================] - 0s 6ms/step - loss: 2.4903 - val_loss: 1.1965\n",
      "Epoch 83/100\n",
      "38/38 [==============================] - 0s 5ms/step - loss: 2.3312 - val_loss: 1.0997\n",
      "Epoch 84/100\n",
      "38/38 [==============================] - 0s 4ms/step - loss: 2.2607 - val_loss: 1.0693\n",
      "Epoch 85/100\n",
      "38/38 [==============================] - 0s 10ms/step - loss: 2.1656 - val_loss: 1.0098\n",
      "Epoch 86/100\n",
      "38/38 [==============================] - 0s 5ms/step - loss: 2.0989 - val_loss: 0.9729\n",
      "Epoch 87/100\n",
      "38/38 [==============================] - 0s 3ms/step - loss: 2.0019 - val_loss: 0.9577\n",
      "Epoch 88/100\n",
      "38/38 [==============================] - 0s 3ms/step - loss: 1.9472 - val_loss: 0.9905\n",
      "Epoch 89/100\n",
      "38/38 [==============================] - 0s 3ms/step - loss: 1.8659 - val_loss: 0.8654\n",
      "Epoch 90/100\n",
      "38/38 [==============================] - 0s 4ms/step - loss: 1.8046 - val_loss: 0.8832\n",
      "Epoch 91/100\n",
      "38/38 [==============================] - 0s 4ms/step - loss: 1.7082 - val_loss: 0.8243\n",
      "Epoch 92/100\n",
      "38/38 [==============================] - 0s 3ms/step - loss: 1.6597 - val_loss: 0.7937\n",
      "Epoch 93/100\n",
      "38/38 [==============================] - 0s 4ms/step - loss: 1.5868 - val_loss: 0.7582\n",
      "Epoch 94/100\n",
      "38/38 [==============================] - 0s 3ms/step - loss: 1.5571 - val_loss: 0.7632\n",
      "Epoch 95/100\n",
      "38/38 [==============================] - 0s 3ms/step - loss: 1.4729 - val_loss: 0.7027\n",
      "Epoch 96/100\n",
      "38/38 [==============================] - 0s 2ms/step - loss: 1.4487 - val_loss: 0.6980\n",
      "Epoch 97/100\n",
      "38/38 [==============================] - 0s 2ms/step - loss: 1.4870 - val_loss: 0.7967\n",
      "Epoch 98/100\n",
      "38/38 [==============================] - 0s 3ms/step - loss: 1.3287 - val_loss: 0.6475\n",
      "Epoch 99/100\n",
      "38/38 [==============================] - 0s 3ms/step - loss: 1.3087 - val_loss: 0.6834\n",
      "Epoch 100/100\n",
      "38/38 [==============================] - 0s 4ms/step - loss: 1.2445 - val_loss: 0.6420\n"
     ]
    }
   ],
   "source": [
    "model.compile(optimizer='adam',loss='mean_squared_error')\n",
    "\n",
    "history = model.fit(X_train_scaled,y_train,batch_size=32,epochs=100,verbose=1,validation_data=(X_test_scaled,y_test))"
   ]
  },
  {
   "cell_type": "code",
   "execution_count": 33,
   "metadata": {},
   "outputs": [
    {
     "name": "stdout",
     "output_type": "stream",
     "text": [
      "Test Loss: 0.642024576663971\n",
      "10/10 [==============================] - 0s 1ms/step\n"
     ]
    }
   ],
   "source": [
    "#Model Evaluation\n",
    "score = model.evaluate(X_test_scaled,y_test,verbose=0)\n",
    "print('Test Loss:',score)\n",
    "\n",
    "#Predictions\n",
    "predictions = model.predict(X_test_scaled)"
   ]
  },
  {
   "cell_type": "code",
   "execution_count": 34,
   "metadata": {},
   "outputs": [
    {
     "data": {
      "image/png": "[encoded data removed]",
      "text/plain": [
       "<Figure size 640x480 with 1 Axes>"
      ]
     },
     "metadata": {},
     "output_type": "display_data"
    }
   ],
   "source": [
    "#Plotting the trend of loss with respect to epochs\n",
    "plt.plot(history.history['loss'], label='Training Loss')\n",
    "plt.plot(history.history['val_loss'],label='Validation Loss')\n",
    "plt.title('Modle Loss')\n",
    "plt.xlabel('Epochs')\n",
    "plt.ylabel('Loss')\n",
    "plt.legend()\n",
    "plt.show()"
   ]
  },
  {
   "cell_type": "code",
   "execution_count": 37,
   "metadata": {},
   "outputs": [
    {
     "name": "stdout",
     "output_type": "stream",
     "text": [
      "1/1 [==============================] - 0s 44ms/step\n",
      "Input Value of Solvent: 500\n",
      "Predicted Stages: 11.361862\n"
     ]
    },
    {
     "name": "stderr",
     "output_type": "stream",
     "text": [
      "c:\\Python311\\Lib\\site-packages\\sklearn\\base.py:465: UserWarning: X does not have valid feature names, but StandardScaler was fitted with feature names\n",
      "  warnings.warn(\n"
     ]
    }
   ],
   "source": [
    "#Example\n",
    "input = 500\n",
    "\n",
    "scaled_input = sc.transform(np.array([[input]]))\n",
    "\n",
    "predicted_value = model.predict(scaled_input)\n",
    "\n",
    "predicted_value_original_scale = sc.inverse_transform(predicted_value)\n",
    "\n",
    "print(\"Input Value of Solvent:\", input)\n",
    "print(\"Predicted Stages:\", predicted_value[0, 0])\n"
   ]
  },
  {
   "cell_type": "code",
   "execution_count": 36,
   "metadata": {},
   "outputs": [
    {
     "name": "stderr",
     "output_type": "stream",
     "text": [
      "c:\\Python311\\Lib\\site-packages\\keras\\src\\engine\\training.py:3079: UserWarning: You are saving your model as an HDF5 file via `model.save()`. This file format is considered legacy. We recommend using instead the native Keras format, e.g. `model.save('my_model.keras')`.\n",
      "  saving_api.save_model(\n"
     ]
    }
   ],
   "source": [
    "import os\n",
    "model.save(os.path.join('model_cross.h5'))"
   ]
  }
 ],
 "metadata": {
  "kernelspec": {
   "display_name": "Python 3",
   "language": "python",
   "name": "python3"
  },
  "language_info": {
   "codemirror_mode": {
    "name": "ipython",
    "version": 3
   },
   "file_extension": ".py",
   "mimetype": "text/x-python",
   "name": "python",
   "nbconvert_exporter": "python",
   "pygments_lexer": "ipython3",
   "version": "3.11.5"
  }
 },
 "nbformat": 4,
 "nbformat_minor": 2
}
