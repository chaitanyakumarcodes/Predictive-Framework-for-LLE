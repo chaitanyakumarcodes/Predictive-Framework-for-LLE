{
 "cells": [
  {
   "cell_type": "code",
   "execution_count": 19,
   "metadata": {},
   "outputs": [],
   "source": [
    "import numpy as np\n",
    "import pandas as pd\n",
    "import matplotlib.pyplot as plt"
   ]
  },
  {
   "cell_type": "code",
   "execution_count": 20,
   "metadata": {},
   "outputs": [],
   "source": [
    "#load the data\n",
    "df = pd.read_excel('counter_current_data.xlsx')"
   ]
  },
  {
   "cell_type": "code",
   "execution_count": 21,
   "metadata": {},
   "outputs": [],
   "source": [
    "#Split the data into input and output\n",
    "X = df.iloc[:,0] #Input\n",
    "y = df.iloc[:,1] #Output"
   ]
  },
  {
   "cell_type": "code",
   "execution_count": 22,
   "metadata": {},
   "outputs": [],
   "source": [
    "#Convert series to dataframe\n",
    "X = X.to_frame()\n",
    "y = y.to_frame()"
   ]
  },
  {
   "cell_type": "code",
   "execution_count": 23,
   "metadata": {},
   "outputs": [
    {
     "data": {
      "text/html": [
       "<div>\n",
       "<style scoped>\n",
       "    .dataframe tbody tr th:only-of-type {\n",
       "        vertical-align: middle;\n",
       "    }\n",
       "\n",
       "    .dataframe tbody tr th {\n",
       "        vertical-align: top;\n",
       "    }\n",
       "\n",
       "    .dataframe thead th {\n",
       "        text-align: right;\n",
       "    }\n",
       "</style>\n",
       "<table border=\"1\" class=\"dataframe\">\n",
       "  <thead>\n",
       "    <tr style=\"text-align: right;\">\n",
       "      <th></th>\n",
       "      <th>Alpha</th>\n",
       "    </tr>\n",
       "  </thead>\n",
       "  <tbody>\n",
       "    <tr>\n",
       "      <th>0</th>\n",
       "      <td>1.010000</td>\n",
       "    </tr>\n",
       "    <tr>\n",
       "      <th>1</th>\n",
       "      <td>1.011327</td>\n",
       "    </tr>\n",
       "    <tr>\n",
       "      <th>2</th>\n",
       "      <td>1.012653</td>\n",
       "    </tr>\n",
       "    <tr>\n",
       "      <th>3</th>\n",
       "      <td>1.013980</td>\n",
       "    </tr>\n",
       "    <tr>\n",
       "      <th>4</th>\n",
       "      <td>1.015307</td>\n",
       "    </tr>\n",
       "    <tr>\n",
       "      <th>...</th>\n",
       "      <td>...</td>\n",
       "    </tr>\n",
       "    <tr>\n",
       "      <th>1496</th>\n",
       "      <td>2.994693</td>\n",
       "    </tr>\n",
       "    <tr>\n",
       "      <th>1497</th>\n",
       "      <td>2.996020</td>\n",
       "    </tr>\n",
       "    <tr>\n",
       "      <th>1498</th>\n",
       "      <td>2.997347</td>\n",
       "    </tr>\n",
       "    <tr>\n",
       "      <th>1499</th>\n",
       "      <td>2.998673</td>\n",
       "    </tr>\n",
       "    <tr>\n",
       "      <th>1500</th>\n",
       "      <td>3.000000</td>\n",
       "    </tr>\n",
       "  </tbody>\n",
       "</table>\n",
       "<p>1501 rows × 1 columns</p>\n",
       "</div>"
      ],
      "text/plain": [
       "         Alpha\n",
       "0     1.010000\n",
       "1     1.011327\n",
       "2     1.012653\n",
       "3     1.013980\n",
       "4     1.015307\n",
       "...        ...\n",
       "1496  2.994693\n",
       "1497  2.996020\n",
       "1498  2.997347\n",
       "1499  2.998673\n",
       "1500  3.000000\n",
       "\n",
       "[1501 rows x 1 columns]"
      ]
     },
     "execution_count": 23,
     "metadata": {},
     "output_type": "execute_result"
    }
   ],
   "source": [
    "X"
   ]
  },
  {
   "cell_type": "code",
   "execution_count": 24,
   "metadata": {},
   "outputs": [
    {
     "data": {
      "text/html": [
       "<div>\n",
       "<style scoped>\n",
       "    .dataframe tbody tr th:only-of-type {\n",
       "        vertical-align: middle;\n",
       "    }\n",
       "\n",
       "    .dataframe tbody tr th {\n",
       "        vertical-align: top;\n",
       "    }\n",
       "\n",
       "    .dataframe thead th {\n",
       "        text-align: right;\n",
       "    }\n",
       "</style>\n",
       "<table border=\"1\" class=\"dataframe\">\n",
       "  <thead>\n",
       "    <tr style=\"text-align: right;\">\n",
       "      <th></th>\n",
       "      <th>Stages</th>\n",
       "    </tr>\n",
       "  </thead>\n",
       "  <tbody>\n",
       "    <tr>\n",
       "      <th>0</th>\n",
       "      <td>82</td>\n",
       "    </tr>\n",
       "    <tr>\n",
       "      <th>1</th>\n",
       "      <td>77</td>\n",
       "    </tr>\n",
       "    <tr>\n",
       "      <th>2</th>\n",
       "      <td>74</td>\n",
       "    </tr>\n",
       "    <tr>\n",
       "      <th>3</th>\n",
       "      <td>70</td>\n",
       "    </tr>\n",
       "    <tr>\n",
       "      <th>4</th>\n",
       "      <td>67</td>\n",
       "    </tr>\n",
       "    <tr>\n",
       "      <th>...</th>\n",
       "      <td>...</td>\n",
       "    </tr>\n",
       "    <tr>\n",
       "      <th>1496</th>\n",
       "      <td>3</td>\n",
       "    </tr>\n",
       "    <tr>\n",
       "      <th>1497</th>\n",
       "      <td>3</td>\n",
       "    </tr>\n",
       "    <tr>\n",
       "      <th>1498</th>\n",
       "      <td>3</td>\n",
       "    </tr>\n",
       "    <tr>\n",
       "      <th>1499</th>\n",
       "      <td>3</td>\n",
       "    </tr>\n",
       "    <tr>\n",
       "      <th>1500</th>\n",
       "      <td>3</td>\n",
       "    </tr>\n",
       "  </tbody>\n",
       "</table>\n",
       "<p>1501 rows × 1 columns</p>\n",
       "</div>"
      ],
      "text/plain": [
       "      Stages\n",
       "0         82\n",
       "1         77\n",
       "2         74\n",
       "3         70\n",
       "4         67\n",
       "...      ...\n",
       "1496       3\n",
       "1497       3\n",
       "1498       3\n",
       "1499       3\n",
       "1500       3\n",
       "\n",
       "[1501 rows x 1 columns]"
      ]
     },
     "execution_count": 24,
     "metadata": {},
     "output_type": "execute_result"
    }
   ],
   "source": [
    "y"
   ]
  },
  {
   "cell_type": "code",
   "execution_count": 25,
   "metadata": {},
   "outputs": [],
   "source": [
    "#Split the data into training and testing\n",
    "from sklearn.model_selection import train_test_split\n",
    "\n",
    "X_train,X_test,y_train,y_test = train_test_split(X,y,test_size=0.2,random_state=42)"
   ]
  },
  {
   "cell_type": "code",
   "execution_count": 26,
   "metadata": {},
   "outputs": [],
   "source": [
    "#Scale the data\n",
    "from sklearn.preprocessing import StandardScaler\n",
    "\n",
    "sc = StandardScaler()\n",
    "\n",
    "X_train_scaled = sc.fit_transform(X_train)\n",
    "X_test_scaled = sc.transform(X_test)"
   ]
  },
  {
   "cell_type": "code",
   "execution_count": 27,
   "metadata": {},
   "outputs": [
    {
     "data": {
      "text/plain": [
       "['scaler_counter.save']"
      ]
     },
     "execution_count": 27,
     "metadata": {},
     "output_type": "execute_result"
    }
   ],
   "source": [
    "import joblib\n",
    "joblib.dump(sc, 'scaler_counter.save')"
   ]
  },
  {
   "cell_type": "code",
   "execution_count": 28,
   "metadata": {},
   "outputs": [
    {
     "name": "stdout",
     "output_type": "stream",
     "text": [
      "1200\n",
      "301\n"
     ]
    }
   ],
   "source": [
    "print(X_train_scaled.size)\n",
    "print(X_test_scaled.size)"
   ]
  },
  {
   "cell_type": "code",
   "execution_count": 29,
   "metadata": {},
   "outputs": [],
   "source": [
    "#Model"
   ]
  },
  {
   "cell_type": "code",
   "execution_count": 30,
   "metadata": {},
   "outputs": [],
   "source": [
    "import tensorflow\n",
    "from keras.models import Sequential\n",
    "from keras.layers import Dense"
   ]
  },
  {
   "cell_type": "code",
   "execution_count": 31,
   "metadata": {},
   "outputs": [
    {
     "name": "stdout",
     "output_type": "stream",
     "text": [
      "Model: \"sequential_1\"\n",
      "_________________________________________________________________\n",
      " Layer (type)                Output Shape              Param #   \n",
      "=================================================================\n",
      " dense_3 (Dense)             (None, 32)                64        \n",
      "                                                                 \n",
      " dense_4 (Dense)             (None, 16)                528       \n",
      "                                                                 \n",
      " dense_5 (Dense)             (None, 1)                 17        \n",
      "                                                                 \n",
      "=================================================================\n",
      "Total params: 609 (2.38 KB)\n",
      "Trainable params: 609 (2.38 KB)\n",
      "Non-trainable params: 0 (0.00 Byte)\n",
      "_________________________________________________________________\n"
     ]
    }
   ],
   "source": [
    "model = Sequential()\n",
    "model.add(Dense(units=32,activation='relu',input_dim=1))\n",
    "model.add(Dense(units=16,activation='relu'))\n",
    "model.add(Dense(units=1,activation='relu'))\n",
    "\n",
    "model.summary()"
   ]
  },
  {
   "cell_type": "code",
   "execution_count": 32,
   "metadata": {},
   "outputs": [
    {
     "name": "stdout",
     "output_type": "stream",
     "text": [
      "Epoch 1/100\n",
      "38/38 [==============================] - 1s 5ms/step - loss: 128.9282 - val_loss: 85.1067\n",
      "Epoch 2/100\n",
      "38/38 [==============================] - 0s 3ms/step - loss: 119.5346 - val_loss: 74.0464\n",
      "Epoch 3/100\n",
      "38/38 [==============================] - 0s 2ms/step - loss: 105.0468 - val_loss: 58.3496\n",
      "Epoch 4/100\n",
      "38/38 [==============================] - 0s 3ms/step - loss: 83.2048 - val_loss: 36.1607\n",
      "Epoch 5/100\n",
      "38/38 [==============================] - 0s 3ms/step - loss: 56.6485 - val_loss: 18.9217\n",
      "Epoch 6/100\n",
      "38/38 [==============================] - 0s 3ms/step - loss: 42.0806 - val_loss: 15.9303\n",
      "Epoch 7/100\n",
      "38/38 [==============================] - 0s 2ms/step - loss: 38.7808 - val_loss: 15.9294\n",
      "Epoch 8/100\n",
      "38/38 [==============================] - 0s 2ms/step - loss: 37.8709 - val_loss: 15.2242\n",
      "Epoch 9/100\n",
      "38/38 [==============================] - 0s 2ms/step - loss: 37.2406 - val_loss: 15.3774\n",
      "Epoch 10/100\n",
      "38/38 [==============================] - 0s 2ms/step - loss: 36.4571 - val_loss: 14.3848\n",
      "Epoch 11/100\n",
      "38/38 [==============================] - 0s 2ms/step - loss: 35.9098 - val_loss: 14.1271\n",
      "Epoch 12/100\n",
      "38/38 [==============================] - 0s 2ms/step - loss: 35.3218 - val_loss: 13.7776\n",
      "Epoch 13/100\n",
      "38/38 [==============================] - 0s 2ms/step - loss: 34.8033 - val_loss: 13.6716\n",
      "Epoch 14/100\n",
      "38/38 [==============================] - 0s 2ms/step - loss: 34.2777 - val_loss: 13.5542\n",
      "Epoch 15/100\n",
      "38/38 [==============================] - 0s 2ms/step - loss: 33.9180 - val_loss: 13.1804\n",
      "Epoch 16/100\n",
      "38/38 [==============================] - 0s 2ms/step - loss: 33.3406 - val_loss: 12.7908\n",
      "Epoch 17/100\n",
      "38/38 [==============================] - 0s 2ms/step - loss: 33.0103 - val_loss: 12.4885\n",
      "Epoch 18/100\n",
      "38/38 [==============================] - 0s 2ms/step - loss: 32.5109 - val_loss: 12.1573\n",
      "Epoch 19/100\n",
      "38/38 [==============================] - 0s 3ms/step - loss: 32.0208 - val_loss: 11.8590\n",
      "Epoch 20/100\n",
      "38/38 [==============================] - 0s 3ms/step - loss: 31.6339 - val_loss: 11.6961\n",
      "Epoch 21/100\n",
      "38/38 [==============================] - 0s 3ms/step - loss: 31.2377 - val_loss: 11.2256\n",
      "Epoch 22/100\n",
      "38/38 [==============================] - 0s 3ms/step - loss: 30.6923 - val_loss: 10.7010\n",
      "Epoch 23/100\n",
      "38/38 [==============================] - 0s 2ms/step - loss: 30.2272 - val_loss: 10.6416\n",
      "Epoch 24/100\n",
      "38/38 [==============================] - 0s 2ms/step - loss: 29.7853 - val_loss: 10.0437\n",
      "Epoch 25/100\n",
      "38/38 [==============================] - 0s 2ms/step - loss: 29.3952 - val_loss: 9.7972\n",
      "Epoch 26/100\n",
      "38/38 [==============================] - 0s 2ms/step - loss: 28.9195 - val_loss: 9.4791\n",
      "Epoch 27/100\n",
      "38/38 [==============================] - 0s 2ms/step - loss: 28.5244 - val_loss: 9.2606\n",
      "Epoch 28/100\n",
      "38/38 [==============================] - 0s 2ms/step - loss: 28.1185 - val_loss: 8.9921\n",
      "Epoch 29/100\n",
      "38/38 [==============================] - 0s 2ms/step - loss: 27.7786 - val_loss: 8.9061\n",
      "Epoch 30/100\n",
      "38/38 [==============================] - 0s 2ms/step - loss: 27.3190 - val_loss: 8.7153\n",
      "Epoch 31/100\n",
      "38/38 [==============================] - 0s 2ms/step - loss: 26.9633 - val_loss: 8.3714\n",
      "Epoch 32/100\n",
      "38/38 [==============================] - 0s 2ms/step - loss: 26.6419 - val_loss: 7.9170\n",
      "Epoch 33/100\n",
      "38/38 [==============================] - 0s 2ms/step - loss: 26.1497 - val_loss: 7.9642\n",
      "Epoch 34/100\n",
      "38/38 [==============================] - 0s 3ms/step - loss: 25.8020 - val_loss: 7.6901\n",
      "Epoch 35/100\n",
      "38/38 [==============================] - 0s 3ms/step - loss: 25.4945 - val_loss: 7.4507\n",
      "Epoch 36/100\n",
      "38/38 [==============================] - 0s 2ms/step - loss: 25.2078 - val_loss: 7.1129\n",
      "Epoch 37/100\n",
      "38/38 [==============================] - 0s 2ms/step - loss: 24.7461 - val_loss: 6.8862\n",
      "Epoch 38/100\n",
      "38/38 [==============================] - 0s 2ms/step - loss: 24.4754 - val_loss: 6.6613\n",
      "Epoch 39/100\n",
      "38/38 [==============================] - 0s 2ms/step - loss: 24.1397 - val_loss: 6.9237\n",
      "Epoch 40/100\n",
      "38/38 [==============================] - 0s 2ms/step - loss: 23.7248 - val_loss: 6.3892\n",
      "Epoch 41/100\n",
      "38/38 [==============================] - 0s 2ms/step - loss: 23.4376 - val_loss: 6.2870\n",
      "Epoch 42/100\n",
      "38/38 [==============================] - 0s 2ms/step - loss: 23.2332 - val_loss: 6.3473\n",
      "Epoch 43/100\n",
      "38/38 [==============================] - 0s 2ms/step - loss: 22.7370 - val_loss: 5.8296\n",
      "Epoch 44/100\n",
      "38/38 [==============================] - 0s 2ms/step - loss: 22.5160 - val_loss: 5.9076\n",
      "Epoch 45/100\n",
      "38/38 [==============================] - 0s 2ms/step - loss: 22.1897 - val_loss: 5.6501\n",
      "Epoch 46/100\n",
      "38/38 [==============================] - 0s 2ms/step - loss: 22.0673 - val_loss: 5.7312\n",
      "Epoch 47/100\n",
      "38/38 [==============================] - 0s 2ms/step - loss: 21.5797 - val_loss: 5.4495\n",
      "Epoch 48/100\n",
      "38/38 [==============================] - 0s 2ms/step - loss: 21.3780 - val_loss: 5.3833\n",
      "Epoch 49/100\n",
      "38/38 [==============================] - 0s 3ms/step - loss: 21.1969 - val_loss: 5.3177\n",
      "Epoch 50/100\n",
      "38/38 [==============================] - 0s 3ms/step - loss: 20.9586 - val_loss: 4.9376\n",
      "Epoch 51/100\n",
      "38/38 [==============================] - 0s 3ms/step - loss: 20.6151 - val_loss: 5.0606\n",
      "Epoch 52/100\n",
      "38/38 [==============================] - 0s 2ms/step - loss: 20.3583 - val_loss: 5.1353\n",
      "Epoch 53/100\n",
      "38/38 [==============================] - 0s 2ms/step - loss: 20.0293 - val_loss: 5.0212\n",
      "Epoch 54/100\n",
      "38/38 [==============================] - 0s 2ms/step - loss: 19.9134 - val_loss: 4.5120\n",
      "Epoch 55/100\n",
      "38/38 [==============================] - 0s 2ms/step - loss: 19.5011 - val_loss: 4.5900\n",
      "Epoch 56/100\n",
      "38/38 [==============================] - 0s 2ms/step - loss: 19.2332 - val_loss: 4.5814\n",
      "Epoch 57/100\n",
      "38/38 [==============================] - 0s 2ms/step - loss: 19.0141 - val_loss: 4.1154\n",
      "Epoch 58/100\n",
      "38/38 [==============================] - 0s 2ms/step - loss: 18.8675 - val_loss: 4.6620\n",
      "Epoch 59/100\n",
      "38/38 [==============================] - 0s 2ms/step - loss: 18.6589 - val_loss: 3.9731\n",
      "Epoch 60/100\n",
      "38/38 [==============================] - 0s 2ms/step - loss: 18.3262 - val_loss: 4.0178\n",
      "Epoch 61/100\n",
      "38/38 [==============================] - 0s 2ms/step - loss: 18.0052 - val_loss: 4.1614\n",
      "Epoch 62/100\n",
      "38/38 [==============================] - 0s 2ms/step - loss: 17.9932 - val_loss: 4.2140\n",
      "Epoch 63/100\n",
      "38/38 [==============================] - 0s 2ms/step - loss: 17.6856 - val_loss: 3.9821\n",
      "Epoch 64/100\n",
      "38/38 [==============================] - 0s 3ms/step - loss: 17.4408 - val_loss: 3.6874\n",
      "Epoch 65/100\n",
      "38/38 [==============================] - 0s 3ms/step - loss: 17.1521 - val_loss: 3.7715\n",
      "Epoch 66/100\n",
      "38/38 [==============================] - 0s 3ms/step - loss: 17.0871 - val_loss: 3.8615\n",
      "Epoch 67/100\n",
      "38/38 [==============================] - 0s 2ms/step - loss: 16.7817 - val_loss: 3.8020\n",
      "Epoch 68/100\n",
      "38/38 [==============================] - 0s 2ms/step - loss: 16.5661 - val_loss: 3.7225\n",
      "Epoch 69/100\n",
      "38/38 [==============================] - 0s 2ms/step - loss: 16.3011 - val_loss: 3.5710\n",
      "Epoch 70/100\n",
      "38/38 [==============================] - 0s 2ms/step - loss: 16.3766 - val_loss: 3.8099\n",
      "Epoch 71/100\n",
      "38/38 [==============================] - 0s 2ms/step - loss: 15.9656 - val_loss: 3.5495\n",
      "Epoch 72/100\n",
      "38/38 [==============================] - 0s 2ms/step - loss: 15.7911 - val_loss: 3.3420\n",
      "Epoch 73/100\n",
      "38/38 [==============================] - 0s 2ms/step - loss: 15.6114 - val_loss: 3.1736\n",
      "Epoch 74/100\n",
      "38/38 [==============================] - 0s 2ms/step - loss: 15.4948 - val_loss: 3.1321\n",
      "Epoch 75/100\n",
      "38/38 [==============================] - 0s 2ms/step - loss: 15.3153 - val_loss: 2.9233\n",
      "Epoch 76/100\n",
      "38/38 [==============================] - 0s 2ms/step - loss: 15.0609 - val_loss: 2.9660\n",
      "Epoch 77/100\n",
      "38/38 [==============================] - 0s 2ms/step - loss: 14.9105 - val_loss: 3.2174\n",
      "Epoch 78/100\n",
      "38/38 [==============================] - 0s 2ms/step - loss: 14.7481 - val_loss: 3.5466\n",
      "Epoch 79/100\n",
      "38/38 [==============================] - 0s 3ms/step - loss: 14.6029 - val_loss: 2.9886\n",
      "Epoch 80/100\n",
      "38/38 [==============================] - 0s 6ms/step - loss: 14.4888 - val_loss: 2.9054\n",
      "Epoch 81/100\n",
      "38/38 [==============================] - 0s 3ms/step - loss: 14.1753 - val_loss: 3.0665\n",
      "Epoch 82/100\n",
      "38/38 [==============================] - 0s 2ms/step - loss: 14.0454 - val_loss: 3.0599\n",
      "Epoch 83/100\n",
      "38/38 [==============================] - 0s 3ms/step - loss: 13.8147 - val_loss: 3.2418\n",
      "Epoch 84/100\n",
      "38/38 [==============================] - 0s 5ms/step - loss: 13.7343 - val_loss: 2.8334\n",
      "Epoch 85/100\n",
      "38/38 [==============================] - 0s 9ms/step - loss: 13.6565 - val_loss: 2.8579\n",
      "Epoch 86/100\n",
      "38/38 [==============================] - 0s 5ms/step - loss: 13.3494 - val_loss: 2.7633\n",
      "Epoch 87/100\n",
      "38/38 [==============================] - 0s 4ms/step - loss: 13.2314 - val_loss: 2.9063\n",
      "Epoch 88/100\n",
      "38/38 [==============================] - 0s 4ms/step - loss: 13.2029 - val_loss: 3.0762\n",
      "Epoch 89/100\n",
      "38/38 [==============================] - 0s 5ms/step - loss: 13.2292 - val_loss: 3.4710\n",
      "Epoch 90/100\n",
      "38/38 [==============================] - 0s 4ms/step - loss: 13.3649 - val_loss: 2.5786\n",
      "Epoch 91/100\n",
      "38/38 [==============================] - 0s 4ms/step - loss: 12.7986 - val_loss: 2.3814\n",
      "Epoch 92/100\n",
      "38/38 [==============================] - 0s 4ms/step - loss: 12.5948 - val_loss: 3.2028\n",
      "Epoch 93/100\n",
      "38/38 [==============================] - 0s 4ms/step - loss: 12.4605 - val_loss: 2.8552\n",
      "Epoch 94/100\n",
      "38/38 [==============================] - 0s 3ms/step - loss: 12.2466 - val_loss: 3.1008\n",
      "Epoch 95/100\n",
      "38/38 [==============================] - 0s 4ms/step - loss: 12.2388 - val_loss: 2.9088\n",
      "Epoch 96/100\n",
      "38/38 [==============================] - 0s 3ms/step - loss: 12.0284 - val_loss: 2.5996\n",
      "Epoch 97/100\n",
      "38/38 [==============================] - 0s 3ms/step - loss: 11.9854 - val_loss: 2.4462\n",
      "Epoch 98/100\n",
      "38/38 [==============================] - 0s 4ms/step - loss: 11.7150 - val_loss: 2.6150\n",
      "Epoch 99/100\n",
      "38/38 [==============================] - 0s 5ms/step - loss: 11.7543 - val_loss: 2.5131\n",
      "Epoch 100/100\n",
      "38/38 [==============================] - 0s 4ms/step - loss: 11.5393 - val_loss: 2.9375\n"
     ]
    }
   ],
   "source": [
    "model.compile(optimizer='adam',loss='mean_squared_error')\n",
    "\n",
    "history = model.fit(X_train_scaled,y_train,batch_size=32,epochs=100,verbose=1,validation_data=(X_test_scaled,y_test))"
   ]
  },
  {
   "cell_type": "code",
   "execution_count": 33,
   "metadata": {},
   "outputs": [
    {
     "name": "stdout",
     "output_type": "stream",
     "text": [
      "Test Loss: 2.937520980834961\n",
      "10/10 [==============================] - 0s 1ms/step\n"
     ]
    }
   ],
   "source": [
    "#Model Evaluation\n",
    "score = model.evaluate(X_test_scaled,y_test,verbose=0)\n",
    "print('Test Loss:',score)\n",
    "\n",
    "#Predictions\n",
    "predictions = model.predict(X_test_scaled)"
   ]
  },
  {
   "cell_type": "code",
   "execution_count": 34,
   "metadata": {},
   "outputs": [
    {
     "data": {
      "image/png": "[encoded data removed]",
      "text/plain": [
       "<Figure size 640x480 with 1 Axes>"
      ]
     },
     "metadata": {},
     "output_type": "display_data"
    }
   ],
   "source": [
    "#Plotting the trend of loss with respect to epochs\n",
    "plt.plot(history.history['loss'], label='Training Loss')\n",
    "plt.plot(history.history['val_loss'],label='Validation Loss')\n",
    "plt.title('Modle Loss')\n",
    "plt.xlabel('Epochs')\n",
    "plt.ylabel('Loss')\n",
    "plt.legend()\n",
    "plt.show()"
   ]
  },
  {
   "cell_type": "code",
   "execution_count": 35,
   "metadata": {},
   "outputs": [
    {
     "name": "stdout",
     "output_type": "stream",
     "text": [
      "1/1 [==============================] - 0s 37ms/step\n",
      "Input Value of Alpha: 2.5\n",
      "Predicted Stages: 3.6774206\n"
     ]
    },
    {
     "name": "stderr",
     "output_type": "stream",
     "text": [
      "c:\\Python311\\Lib\\site-packages\\sklearn\\base.py:465: UserWarning: X does not have valid feature names, but StandardScaler was fitted with feature names\n",
      "  warnings.warn(\n"
     ]
    }
   ],
   "source": [
    "#Example\n",
    "input = 2.5\n",
    "\n",
    "scaled_input = sc.transform(np.array([[input]]))\n",
    "\n",
    "predicted_value = model.predict(scaled_input)\n",
    "\n",
    "predicted_value_original_scale = sc.inverse_transform(predicted_value)\n",
    "\n",
    "print(\"Input Value of Alpha:\", input)\n",
    "print(\"Predicted Stages:\", predicted_value[0, 0])\n"
   ]
  },
  {
   "cell_type": "code",
   "execution_count": 36,
   "metadata": {},
   "outputs": [
    {
     "name": "stderr",
     "output_type": "stream",
     "text": [
      "c:\\Python311\\Lib\\site-packages\\keras\\src\\engine\\training.py:3079: UserWarning: You are saving your model as an HDF5 file via `model.save()`. This file format is considered legacy. We recommend using instead the native Keras format, e.g. `model.save('my_model.keras')`.\n",
      "  saving_api.save_model(\n"
     ]
    }
   ],
   "source": [
    "import os\n",
    "model.save(os.path.join('model_counter.h5'))"
   ]
  },
  {
   "cell_type": "code",
   "execution_count": null,
   "metadata": {},
   "outputs": [],
   "source": []
  }
 ],
 "metadata": {
  "kernelspec": {
   "display_name": "Python 3",
   "language": "python",
   "name": "python3"
  },
  "language_info": {
   "codemirror_mode": {
    "name": "ipython",
    "version": 3
   },
   "file_extension": ".py",
   "mimetype": "text/x-python",
   "name": "python",
   "nbconvert_exporter": "python",
   "pygments_lexer": "ipython3",
   "version": "3.11.5"
  }
 },
 "nbformat": 4,
 "nbformat_minor": 2
}
